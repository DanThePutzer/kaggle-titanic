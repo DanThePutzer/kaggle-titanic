{
 "cells": [
  {
   "cell_type": "markdown",
   "metadata": {},
   "source": [
    "## Kaggle Titanic Competition\n",
    "Determining survivers based on some data."
   ]
  },
  {
   "cell_type": "code",
   "execution_count": 1,
   "metadata": {},
   "outputs": [],
   "source": [
    "import pandas as pd\n",
    "import numpy as np\n",
    "import matplotlib.pyplot as plt\n",
    "from statistics import mean\n",
    "from collections import Counter\n",
    "\n",
    "# Hiding stupid warnings\n",
    "import warnings\n",
    "warnings.filterwarnings('ignore')"
   ]
  },
  {
   "cell_type": "code",
   "execution_count": 2,
   "metadata": {},
   "outputs": [],
   "source": [
    "# Loading data\n",
    "titanic = pd.read_csv('Data/train.csv')"
   ]
  },
  {
   "cell_type": "code",
   "execution_count": 3,
   "metadata": {},
   "outputs": [],
   "source": [
    "# Preprocessing data\n",
    "from sklearn.base import TransformerMixin, BaseEstimator\n",
    "from sklearn.pipeline import Pipeline, FeatureUnion\n",
    "from sklearn.preprocessing import StandardScaler, OneHotEncoder\n",
    "from sklearn.impute import SimpleImputer\n",
    "from sklearn.model_selection import train_test_split, cross_val_score"
   ]
  },
  {
   "cell_type": "markdown",
   "metadata": {},
   "source": [
    "### Taking a look at the data\n",
    "Text based data needs to be turned into numerical data for the algorithm to understand.\n",
    "\n",
    "**Text-based Columns:** Name, Sex, Ticket, Cabin, Embarked\n",
    "\n",
    "**Numerical Columns:** PassengerId, Survived, Pclass, Age, SibSp, Parch, Fare"
   ]
  },
  {
   "cell_type": "code",
   "execution_count": 4,
   "metadata": {},
   "outputs": [
    {
     "name": "stdout",
     "output_type": "stream",
     "text": [
      "<class 'pandas.core.frame.DataFrame'>\n",
      "RangeIndex: 891 entries, 0 to 890\n",
      "Data columns (total 12 columns):\n",
      "PassengerId    891 non-null int64\n",
      "Survived       891 non-null int64\n",
      "Pclass         891 non-null int64\n",
      "Name           891 non-null object\n",
      "Sex            891 non-null object\n",
      "Age            714 non-null float64\n",
      "SibSp          891 non-null int64\n",
      "Parch          891 non-null int64\n",
      "Ticket         891 non-null object\n",
      "Fare           891 non-null float64\n",
      "Cabin          204 non-null object\n",
      "Embarked       889 non-null object\n",
      "dtypes: float64(2), int64(5), object(5)\n",
      "memory usage: 83.6+ KB\n"
     ]
    }
   ],
   "source": [
    "# Printing first 10 rows of dataset:\n",
    "titanic.info()"
   ]
  },
  {
   "cell_type": "code",
   "execution_count": 5,
   "metadata": {},
   "outputs": [
    {
     "data": {
      "image/png": "[encoded data removed]",
      "text/plain": [
       "<Figure size 720x288 with 2 Axes>"
      ]
     },
     "metadata": {
      "needs_background": "light"
     },
     "output_type": "display_data"
    }
   ],
   "source": [
    "# Plotting histograms for some interesting numerical columns:\n",
    "plot = titanic[['Age', 'Fare']].hist(bins=8, figsize=(10,4))"
   ]
  },
  {
   "cell_type": "markdown",
   "metadata": {},
   "source": [
    "### Defining some general functions & transformers"
   ]
  },
  {
   "cell_type": "code",
   "execution_count": 6,
   "metadata": {},
   "outputs": [],
   "source": [
    "# Function to merge numerical columns\n",
    "def mergeColumns(frame, columns, new):\n",
    "    frame[new] = frame[columns].sum(axis=1)\n",
    "    frame.drop(columns, axis=1, inplace=True)\n",
    "    return frame"
   ]
  },
  {
   "cell_type": "code",
   "execution_count": 7,
   "metadata": {},
   "outputs": [],
   "source": [
    "# Function to get dataframe indices of selected columns to access them in array form\n",
    "def getFrameIndices(frame, columns):\n",
    "    return [frame.columns.get_loc(col) for col in columns]\n",
    "\n",
    "def getArrayIndices(category, columns):\n",
    "    return [list(category).index(col) for col in columns]"
   ]
  },
  {
   "cell_type": "code",
   "execution_count": 8,
   "metadata": {},
   "outputs": [],
   "source": [
    "# Custom transformer to handle dataframes directly in pipeline\n",
    "class FrameHandler(BaseEstimator, TransformerMixin):\n",
    "    def __init__(self, columns=None):\n",
    "        self.columns = columns\n",
    "        \n",
    "    def fit(self, X):\n",
    "        return self\n",
    "    \n",
    "    def transform(self, X):\n",
    "        if self.columns is None:\n",
    "            return X.values\n",
    "        return X[self.columns].values"
   ]
  },
  {
   "cell_type": "code",
   "execution_count": 9,
   "metadata": {},
   "outputs": [],
   "source": [
    "# Custom OneHotEncoder that allows for specific columns to be encoded only\n",
    "class OneHotColumn(BaseEstimator, TransformerMixin):\n",
    "    def __init__(self, category, columns):\n",
    "        self.category = category\n",
    "        self.columns = columns\n",
    "        \n",
    "        self.index = getArrayIndices(self.category, self.columns)\n",
    "        self.encoder = OneHotEncoder()\n",
    "    \n",
    "    def fit(self, X):\n",
    "        return self\n",
    "    \n",
    "    def transform(self, X):\n",
    "        for column in range(len(self.columns)):\n",
    "            encodedCol = OneHotEncoder(sparse=False).fit_transform(np.array(X[:, self.index[column]]).reshape(-1,1))\n",
    "            X = np.delete(X, self.index[column], axis=1)\n",
    "            X = np.concatenate((X, encodedCol), axis=1)\n",
    "        return X"
   ]
  },
  {
   "cell_type": "code",
   "execution_count": null,
   "metadata": {},
   "outputs": [],
   "source": []
  },
  {
   "cell_type": "code",
   "execution_count": 10,
   "metadata": {},
   "outputs": [
    {
     "data": {
      "text/plain": [
       "(array(['Pclass', 'Age', 'Fare', 'Relations'], dtype=object),\n",
       " array(['Sex', 'Embarked'], dtype=object))"
      ]
     },
     "execution_count": 10,
     "metadata": {},
     "output_type": "execute_result"
    }
   ],
   "source": [
    "# Loading data\n",
    "titanic = pd.read_csv('Data/train.csv')\n",
    "\n",
    "# Defining label array\n",
    "labels = np.array(titanic['Survived'])\n",
    "\n",
    "# Feature engineering / reduction\n",
    "titanic.drop(['PassengerId', 'Name', 'Ticket', 'Cabin', 'Survived'], axis=1, inplace=True)\n",
    "\n",
    "titanic = mergeColumns(titanic, ['SibSp', 'Parch'], 'Relations')\n",
    "titanic['Embarked'].fillna(Counter(titanic['Embarked']).most_common(1)[0][0], inplace=True)\n",
    "\n",
    "# Splitting train and test data\n",
    "Xtrain, Xtest, labelsTrain, labelsTest = train_test_split(titanic, labels, test_size=0.2)\n",
    "\n",
    "# Defining data categories\n",
    "numerical = titanic.select_dtypes(include=[np.number]).columns.values\n",
    "categorical = titanic.select_dtypes(exclude=[np.number]).columns.values\n",
    "\n",
    "numerical, categorical"
   ]
  },
  {
   "cell_type": "markdown",
   "metadata": {},
   "source": [
    "### Dealing with numerical data\n",
    "* Getting rid of unnecessary columns\n",
    "    * Wanted columns: **Pclass, Age, SibSp, Parch, Fare**\n",
    "* Using a pipeline to process and properly encode numerical columns with pre-made and custom SciKit Learn transformers. \n",
    "    * **Pclass:** OneHot-Encoding\n",
    "    * **Fare:** Binning\n",
    "    * **SibSp & Parch:** Summing up features, binarizing and OneHot-Encoding "
   ]
  },
  {
   "cell_type": "code",
   "execution_count": 11,
   "metadata": {},
   "outputs": [],
   "source": [
    "# Custom transformer for binning\n",
    "class BinningColumn(BaseEstimator, TransformerMixin):\n",
    "    def __init__(self, category, column, steps, bound):\n",
    "        self.category = category\n",
    "        self.column = column\n",
    "        self.steps = steps\n",
    "        self.bound = bound\n",
    "\n",
    "        self.index = getArrayIndices(self.category, [self.column])\n",
    "        self.intervalls = np.linspace(0, self.bound, self.steps + 1)\n",
    "        \n",
    "    def fit(self, X):\n",
    "        return self\n",
    "    \n",
    "    def transform(self, X):\n",
    "        binCol = [float(self.intervalls[-1]) if n >= float(self.bound) else n for n in X[:, self.index[0]]]\n",
    "        binCol = [float(self.intervalls[1] - 1) if n == 0.0 else n for n in binCol]\n",
    "        X[:, self.index[0]] = pd.cut(binCol, bins=self.intervalls, labels=self.intervalls[1:])\n",
    "        return X"
   ]
  },
  {
   "cell_type": "code",
   "execution_count": null,
   "metadata": {},
   "outputs": [],
   "source": []
  },
  {
   "cell_type": "code",
   "execution_count": 12,
   "metadata": {},
   "outputs": [],
   "source": [
    "numPipe = Pipeline([\n",
    "    ('frameHandler', FrameHandler(columns=numerical)),\n",
    "    ('imputer', SimpleImputer(strategy='median')),\n",
    "    ('binningFare', BinningColumn(category=numerical, column='Fare', steps=5, bound=50)),\n",
    "    ('binningAge', BinningColumn(category=numerical, column='Age', steps=12, bound=60)),\n",
    "    ('encode', OneHotColumn(category=numerical, columns=['Pclass'])),\n",
    "    ('scaler', StandardScaler()),\n",
    "])"
   ]
  },
  {
   "cell_type": "markdown",
   "metadata": {},
   "source": [
    "### Dealing with categorical data\n",
    "* Getting rid of unnecessary columns\n",
    "    * Wanted columns: **Sex, Cabin, Embarked**\n",
    "* Using a pipeline to process and properly encode rest of the data for training using pre-made and custom SciKit Learn transformers. "
   ]
  },
  {
   "cell_type": "code",
   "execution_count": 13,
   "metadata": {},
   "outputs": [],
   "source": [
    "catPipe = Pipeline([\n",
    "    ('frameHandler', FrameHandler(columns=categorical)),\n",
    "    ('encode', OneHotColumn(category=categorical, columns=['Embarked', 'Sex'])),\n",
    "])"
   ]
  },
  {
   "cell_type": "markdown",
   "metadata": {},
   "source": [
    "### Putting numerical and categorical data back together"
   ]
  },
  {
   "cell_type": "code",
   "execution_count": 14,
   "metadata": {},
   "outputs": [],
   "source": [
    "titanPipe = FeatureUnion(transformer_list=[\n",
    "    ('numPipe', numPipe),\n",
    "    ('catPipe', catPipe),\n",
    "])\n",
    "\n",
    "processedTrain = titanPipe.fit_transform(Xtrain)\n",
    "processedTest = titanPipe.transform(Xtest)"
   ]
  },
  {
   "cell_type": "code",
   "execution_count": 15,
   "metadata": {},
   "outputs": [
    {
     "data": {
      "text/plain": [
       "array([[-0.5157789291553717, -0.9857320251014343, -0.549274044099617,\n",
       "        -0.5492224851628044, -0.5253433763572547, 0.900946632495845, 0.0,\n",
       "        0.0, 1.0, 0.0, 1.0],\n",
       "       [-0.10683171583841776, -0.9857320251014343, -0.549274044099617,\n",
       "        -0.5492224851628044, -0.5253433763572547, 0.900946632495845, 0.0,\n",
       "        1.0, 0.0, 0.0, 1.0],\n",
       "       [-0.10683171583841776, -0.9857320251014343, -0.549274044099617,\n",
       "        -0.5492224851628044, -0.5253433763572547, 0.900946632495845, 0.0,\n",
       "        0.0, 1.0, 0.0, 1.0],\n",
       "       [-0.10683171583841776, -0.33041811112176933, -0.549274044099617,\n",
       "        -0.5492224851628044, 1.9035169091386241, -1.1099436569619658,\n",
       "        0.0, 0.0, 1.0, 1.0, 0.0],\n",
       "       [1.5289571374293978, 1.6355236308172256, 0.6633867912458941,\n",
       "        1.8207557538427515, -0.5253433763572547, -1.1099436569619658,\n",
       "        1.0, 0.0, 0.0, 0.0, 1.0],\n",
       "       [-0.5157789291553717, 1.6355236308172256, -0.549274044099617,\n",
       "        1.8207557538427515, -0.5253433763572547, -1.1099436569619658,\n",
       "        1.0, 0.0, 0.0, 1.0, 0.0],\n",
       "       [0.3021154974785361, -0.33041811112176933, 0.6633867912458941,\n",
       "        -0.5492224851628044, -0.5253433763572547, 0.900946632495845, 0.0,\n",
       "        0.0, 1.0, 0.0, 1.0],\n",
       "       [-2.151567782423187, 0.3248958028578956, 2.4823780442641605,\n",
       "        -0.5492224851628044, -0.5253433763572547, 0.900946632495845, 0.0,\n",
       "        0.0, 1.0, 0.0, 1.0],\n",
       "       [0.71106271079549, -0.33041811112176933, -0.549274044099617,\n",
       "        -0.5492224851628044, 1.9035169091386241, -1.1099436569619658,\n",
       "        0.0, 0.0, 1.0, 1.0, 0.0]], dtype=object)"
      ]
     },
     "execution_count": 15,
     "metadata": {},
     "output_type": "execute_result"
    }
   ],
   "source": [
    "processedTrain[1:10]"
   ]
  },
  {
   "cell_type": "markdown",
   "metadata": {},
   "source": [
    "### Training & Testing Classifier"
   ]
  },
  {
   "cell_type": "code",
   "execution_count": 16,
   "metadata": {},
   "outputs": [],
   "source": [
    "from sklearn.linear_model import LinearRegression\n",
    "from sklearn.neighbors import KNeighborsClassifier\n",
    "from sklearn.tree import DecisionTreeClassifier\n",
    "from sklearn.ensemble import RandomForestRegressor\n",
    "\n",
    "from sklearn.model_selection import RandomizedSearchCV"
   ]
  },
  {
   "cell_type": "code",
   "execution_count": 17,
   "metadata": {},
   "outputs": [
    {
     "name": "stderr",
     "output_type": "stream",
     "text": [
      "/Users/dan/Software/miniconda/envs/ml/lib/python3.7/site-packages/sklearn/model_selection/_search.py:813: DeprecationWarning: The default of the `iid` parameter will change from True to False in version 0.22 and will be removed in 0.24. This will change numeric results when test-set sizes are unequal.\n",
      "  DeprecationWarning)\n"
     ]
    }
   ],
   "source": [
    "clf = DecisionTreeClassifier()\n",
    "\n",
    "paramRanges = {\n",
    "    'max_depth': [1,20],\n",
    "    'min_samples_split': [0.1, 10],\n",
    "    'min_samples_leaf': [1, 5],\n",
    "    'max_features': [1, 4]\n",
    "}\n",
    "\n",
    "classifierSearch = RandomizedSearchCV(clf, param_distributions=paramRanges, cv=5)\n",
    "\n",
    "classifierSearch.fit(processedTrain, labelsTrain)\n",
    "bestClf = classifierSearch.best_estimator_\n",
    "\n",
    "predictions = bestClf.predict(processedTest)"
   ]
  },
  {
   "cell_type": "markdown",
   "metadata": {},
   "source": [
    "### Calculating Precision & Recall"
   ]
  },
  {
   "cell_type": "code",
   "execution_count": 18,
   "metadata": {},
   "outputs": [
    {
     "data": {
      "text/plain": [
       "(0.7884615384615384,\n",
       " 0.6029411764705882,\n",
       " 0.7877094972067039,\n",
       " 0.7519210386857446)"
      ]
     },
     "execution_count": 18,
     "metadata": {},
     "output_type": "execute_result"
    }
   ],
   "source": [
    "from sklearn.metrics import precision_score, recall_score\n",
    "from sklearn.metrics import roc_auc_score\n",
    "\n",
    "precision = precision_score(labelsTest, predictions)\n",
    "recall = recall_score(labelsTest, predictions)\n",
    "accuracy = bestClf.score(processedTest, labelsTest)\n",
    "roc = roc_auc_score(labelsTest, predictions)\n",
    "\n",
    "precision, recall, accuracy, roc"
   ]
  },
  {
   "cell_type": "code",
   "execution_count": null,
   "metadata": {},
   "outputs": [],
   "source": []
  },
  {
   "cell_type": "code",
   "execution_count": 19,
   "metadata": {},
   "outputs": [],
   "source": [
    "relevance = classifierSearch.best_estimator_.feature_importances_"
   ]
  },
  {
   "cell_type": "code",
   "execution_count": 20,
   "metadata": {},
   "outputs": [],
   "source": [
    "catAts = catPipe.named_steps['encode']\n",
    "numAts = numPipe.named_steps['encode']\n",
    "\n",
    "ats = list(numAts.category) + list(catAts.category)"
   ]
  },
  {
   "cell_type": "code",
   "execution_count": 21,
   "metadata": {},
   "outputs": [
    {
     "data": {
      "text/plain": [
       "[(0.13408013660391513, 'Pclass'),\n",
       " (0.11694020035862716, 'Embarked'),\n",
       " (0.10230547729741579, 'Age'),\n",
       " (0.062014757421314, 'Fare'),\n",
       " (0.017207354892023796, 'Relations'),\n",
       " (0.0, 'Sex')]"
      ]
     },
     "execution_count": 21,
     "metadata": {},
     "output_type": "execute_result"
    }
   ],
   "source": [
    "sorted(zip(relevance, ats), reverse=True)"
   ]
  },
  {
   "cell_type": "code",
   "execution_count": null,
   "metadata": {},
   "outputs": [],
   "source": []
  },
  {
   "cell_type": "code",
   "execution_count": null,
   "metadata": {},
   "outputs": [],
   "source": []
  },
  {
   "cell_type": "code",
   "execution_count": null,
   "metadata": {},
   "outputs": [],
   "source": []
  }
 ],
 "metadata": {
  "kernelspec": {
   "display_name": "Python 3",
   "language": "python",
   "name": "python3"
  },
  "language_info": {
   "codemirror_mode": {
    "name": "ipython",
    "version": 3
   },
   "file_extension": ".py",
   "mimetype": "text/x-python",
   "name": "python",
   "nbconvert_exporter": "python",
   "pygments_lexer": "ipython3",
   "version": "3.7.3"
  }
 },
 "nbformat": 4,
 "nbformat_minor": 2
}
